{
 "cells": [
  {
   "cell_type": "markdown",
   "metadata": {},
   "source": [
    "# Modelado de predicción de aceptación de opción de pago"
   ]
  },
  {
   "cell_type": "markdown",
   "metadata": {},
   "source": [
    "### By: Sergio Quintero"
   ]
  },
  {
   "cell_type": "markdown",
   "metadata": {},
   "source": [
    "#### Objetivo: Desarrollar un modelo que permita predecir si el cliente aceptará una opción de pago a partir de los datos demográficos, financieros, y de negocio"
   ]
  },
  {
   "cell_type": "markdown",
   "metadata": {},
   "source": [
    "## 1. Exploración y limpieza de los datos"
   ]
  },
  {
   "cell_type": "markdown",
   "metadata": {},
   "source": [
    "#### Importación de los datos"
   ]
  },
  {
   "cell_type": "code",
   "execution_count": 1,
   "metadata": {},
   "outputs": [],
   "source": [
    "import pandas as pd\n",
    "\n",
    "datos_train = pd.read_csv('data/prueba_op_base_pivot_var_rpta_alt_enmascarado_trtest.csv')\n",
    "datos_pagos = pd.read_csv('data/prueba_op_maestra_cuotas_pagos_mes_hist_enmascarado_completa.csv')\n",
    "datos_probabilidades = pd.read_csv('data/prueba_op_probabilidad_oblig_base_hist_enmascarado_completa.csv')\n",
    "datos_demograficos = pd.read_csv('data/prueba_op_master_customer_data_enmascarado_completa.csv')\n",
    "datos_predecir = pd.read_csv('data/prueba_op_base_pivot_var_rpta_alt_enmascarado_oot.csv')"
   ]
  },
  {
   "cell_type": "markdown",
   "metadata": {},
   "source": [
    "Remover duplicados"
   ]
  },
  {
   "cell_type": "code",
   "execution_count": 2,
   "metadata": {},
   "outputs": [],
   "source": [
    "datos_demograficos_sorted = datos_demograficos.sort_values(by=['nit_enmascarado', 'year', 'month'], ascending=[True, False, False])\n",
    "datos_demograficos_unicos = datos_demograficos_sorted.drop_duplicates(subset=['nit_enmascarado'], keep='first')"
   ]
  },
  {
   "cell_type": "code",
   "execution_count": 3,
   "metadata": {},
   "outputs": [
    {
     "name": "stdout",
     "output_type": "stream",
     "text": [
      "Duplicados en datos_demograficos: 0\n"
     ]
    }
   ],
   "source": [
    "duplicados_demograficos_unicos = datos_demograficos_unicos[datos_demograficos_unicos.duplicated(subset=['nit_enmascarado'], keep=False)]\n",
    "print(f'Duplicados en datos_demograficos: {len(duplicados_demograficos_unicos)}')"
   ]
  },
  {
   "cell_type": "markdown",
   "metadata": {},
   "source": [
    "Merge datos entrenamiento con datos demograficos"
   ]
  },
  {
   "cell_type": "code",
   "execution_count": 4,
   "metadata": {},
   "outputs": [
    {
     "data": {
      "text/plain": [
       "(456290, 85)"
      ]
     },
     "execution_count": 4,
     "metadata": {},
     "output_type": "execute_result"
    }
   ],
   "source": [
    "dataset = pd.merge(datos_train, datos_demograficos_unicos, on='nit_enmascarado', how='inner')\n",
    "dataset.shape"
   ]
  },
  {
   "cell_type": "markdown",
   "metadata": {},
   "source": [
    "Concatenar nit con num_obligacion"
   ]
  },
  {
   "cell_type": "code",
   "execution_count": 5,
   "metadata": {},
   "outputs": [
    {
     "data": {
      "text/plain": [
       "0    630611#219718#863073\n",
       "1     59412#789567#290775\n",
       "2    277595#1045909#34433\n",
       "3     24588#1061389#18953\n",
       "4    431682#820319#260023\n",
       "Name: nit_num_oblig_id, dtype: object"
      ]
     },
     "execution_count": 5,
     "metadata": {},
     "output_type": "execute_result"
    }
   ],
   "source": [
    "dataset['nit_num_oblig_id'] = dataset['nit_enmascarado'].astype(str) + '#' + dataset['num_oblig_orig_enmascarado'].astype(str) + '#' + dataset['num_oblig_enmascarado'].astype(str)\n",
    "dataset['nit_num_oblig_id'].head()"
   ]
  },
  {
   "cell_type": "code",
   "execution_count": 6,
   "metadata": {},
   "outputs": [
    {
     "data": {
      "text/plain": [
       "0    630611#863073\n",
       "1     59412#290775\n",
       "2     277595#34433\n",
       "3      24588#18953\n",
       "4    431682#260023\n",
       "Name: nit_num_oblig, dtype: object"
      ]
     },
     "execution_count": 6,
     "metadata": {},
     "output_type": "execute_result"
    }
   ],
   "source": [
    "dataset['nit_num_oblig'] = dataset['nit_enmascarado'].astype(str) + '#' + dataset['num_oblig_enmascarado'].astype(str)\n",
    "dataset['nit_num_oblig'].head()"
   ]
  },
  {
   "cell_type": "markdown",
   "metadata": {},
   "source": [
    "Datos probabilidades"
   ]
  },
  {
   "cell_type": "code",
   "execution_count": 7,
   "metadata": {},
   "outputs": [
    {
     "data": {
      "text/plain": [
       "0    296482#102381\n",
       "1    391957#742315\n",
       "2    229894#359919\n",
       "3    478963#239064\n",
       "4    349609#923348\n",
       "Name: nit_num_oblig, dtype: object"
      ]
     },
     "execution_count": 7,
     "metadata": {},
     "output_type": "execute_result"
    }
   ],
   "source": [
    "datos_probabilidades['nit_num_oblig'] = datos_probabilidades['nit_enmascarado'].astype(str) + '#' + datos_probabilidades['num_oblig_enmascarado'].astype(str)\n",
    "datos_probabilidades['nit_num_oblig'].head()"
   ]
  },
  {
   "cell_type": "code",
   "execution_count": 8,
   "metadata": {},
   "outputs": [
    {
     "data": {
      "text/plain": [
       "0    202311\n",
       "1    202309\n",
       "2    202309\n",
       "3    202310\n",
       "4    202309\n",
       "Name: fecha_var_rpta_alt, dtype: int64"
      ]
     },
     "execution_count": 8,
     "metadata": {},
     "output_type": "execute_result"
    }
   ],
   "source": [
    "datos_probabilidades = pd.merge(datos_probabilidades, dataset[['nit_num_oblig', 'fecha_var_rpta_alt']], on='nit_num_oblig', how='inner')\n",
    "datos_probabilidades['fecha_var_rpta_alt'].head()"
   ]
  },
  {
   "cell_type": "code",
   "execution_count": 9,
   "metadata": {},
   "outputs": [
    {
     "data": {
      "text/html": [
       "<div>\n",
       "<style scoped>\n",
       "    .dataframe tbody tr th:only-of-type {\n",
       "        vertical-align: middle;\n",
       "    }\n",
       "\n",
       "    .dataframe tbody tr th {\n",
       "        vertical-align: top;\n",
       "    }\n",
       "\n",
       "    .dataframe thead th {\n",
       "        text-align: right;\n",
       "    }\n",
       "</style>\n",
       "<table border=\"1\" class=\"dataframe\">\n",
       "  <thead>\n",
       "    <tr style=\"text-align: right;\">\n",
       "      <th></th>\n",
       "      <th>nit_enmascarado</th>\n",
       "      <th>num_oblig_enmascarado</th>\n",
       "      <th>fecha_corte</th>\n",
       "      <th>lote</th>\n",
       "      <th>prob_propension</th>\n",
       "      <th>prob_alrt_temprana</th>\n",
       "      <th>prob_auto_cura</th>\n",
       "      <th>nit_num_oblig</th>\n",
       "      <th>fecha_var_rpta_alt</th>\n",
       "    </tr>\n",
       "  </thead>\n",
       "  <tbody>\n",
       "    <tr>\n",
       "      <th>0</th>\n",
       "      <td>296482</td>\n",
       "      <td>102381</td>\n",
       "      <td>202308</td>\n",
       "      <td>1</td>\n",
       "      <td>0.761350</td>\n",
       "      <td>0.193744</td>\n",
       "      <td>0.684784</td>\n",
       "      <td>296482#102381</td>\n",
       "      <td>202311</td>\n",
       "    </tr>\n",
       "    <tr>\n",
       "      <th>1</th>\n",
       "      <td>229894</td>\n",
       "      <td>359919</td>\n",
       "      <td>202307</td>\n",
       "      <td>1</td>\n",
       "      <td>0.835373</td>\n",
       "      <td>0.285157</td>\n",
       "      <td>0.826225</td>\n",
       "      <td>229894#359919</td>\n",
       "      <td>202309</td>\n",
       "    </tr>\n",
       "    <tr>\n",
       "      <th>2</th>\n",
       "      <td>102595</td>\n",
       "      <td>857453</td>\n",
       "      <td>202307</td>\n",
       "      <td>1</td>\n",
       "      <td>0.742234</td>\n",
       "      <td>0.364649</td>\n",
       "      <td>0.527945</td>\n",
       "      <td>102595#857453</td>\n",
       "      <td>202309</td>\n",
       "    </tr>\n",
       "    <tr>\n",
       "      <th>3</th>\n",
       "      <td>508610</td>\n",
       "      <td>638552</td>\n",
       "      <td>202312</td>\n",
       "      <td>2</td>\n",
       "      <td>0.382216</td>\n",
       "      <td>0.606773</td>\n",
       "      <td>0.176670</td>\n",
       "      <td>508610#638552</td>\n",
       "      <td>202310</td>\n",
       "    </tr>\n",
       "    <tr>\n",
       "      <th>4</th>\n",
       "      <td>307136</td>\n",
       "      <td>561298</td>\n",
       "      <td>202306</td>\n",
       "      <td>1</td>\n",
       "      <td>0.806566</td>\n",
       "      <td>0.765648</td>\n",
       "      <td>0.533541</td>\n",
       "      <td>307136#561298</td>\n",
       "      <td>202309</td>\n",
       "    </tr>\n",
       "  </tbody>\n",
       "</table>\n",
       "</div>"
      ],
      "text/plain": [
       "   nit_enmascarado  num_oblig_enmascarado  fecha_corte  lote  prob_propension  \\\n",
       "0           296482                 102381       202308     1         0.761350   \n",
       "1           229894                 359919       202307     1         0.835373   \n",
       "2           102595                 857453       202307     1         0.742234   \n",
       "3           508610                 638552       202312     2         0.382216   \n",
       "4           307136                 561298       202306     1         0.806566   \n",
       "\n",
       "   prob_alrt_temprana  prob_auto_cura  nit_num_oblig  fecha_var_rpta_alt  \n",
       "0            0.193744        0.684784  296482#102381              202311  \n",
       "1            0.285157        0.826225  229894#359919              202309  \n",
       "2            0.364649        0.527945  102595#857453              202309  \n",
       "3            0.606773        0.176670  508610#638552              202310  \n",
       "4            0.765648        0.533541  307136#561298              202309  "
      ]
     },
     "execution_count": 9,
     "metadata": {},
     "output_type": "execute_result"
    }
   ],
   "source": [
    "datos_probabilidades.head()"
   ]
  },
  {
   "cell_type": "markdown",
   "metadata": {},
   "source": [
    "Eliminar datos duplicados probabilidades"
   ]
  },
  {
   "cell_type": "code",
   "execution_count": 10,
   "metadata": {},
   "outputs": [],
   "source": [
    "datos_probabilidades_filtrados = datos_probabilidades[datos_probabilidades['fecha_corte'] <= datos_probabilidades['fecha_var_rpta_alt']]\n",
    "datos_probabilidades_filtrados_sorted = datos_probabilidades_filtrados.sort_values(by=['nit_num_oblig', 'fecha_corte'], ascending=[True, False])\n",
    "datos_probabilidades_final = datos_probabilidades_filtrados_sorted.drop_duplicates(subset=['nit_num_oblig'], keep='first')"
   ]
  },
  {
   "cell_type": "code",
   "execution_count": 11,
   "metadata": {},
   "outputs": [
    {
     "data": {
      "text/html": [
       "<div>\n",
       "<style scoped>\n",
       "    .dataframe tbody tr th:only-of-type {\n",
       "        vertical-align: middle;\n",
       "    }\n",
       "\n",
       "    .dataframe tbody tr th {\n",
       "        vertical-align: top;\n",
       "    }\n",
       "\n",
       "    .dataframe thead th {\n",
       "        text-align: right;\n",
       "    }\n",
       "</style>\n",
       "<table border=\"1\" class=\"dataframe\">\n",
       "  <thead>\n",
       "    <tr style=\"text-align: right;\">\n",
       "      <th></th>\n",
       "      <th>nit_enmascarado</th>\n",
       "      <th>num_oblig_enmascarado</th>\n",
       "      <th>fecha_corte</th>\n",
       "      <th>lote</th>\n",
       "      <th>prob_propension</th>\n",
       "      <th>prob_alrt_temprana</th>\n",
       "      <th>prob_auto_cura</th>\n",
       "      <th>nit_num_oblig</th>\n",
       "      <th>fecha_var_rpta_alt</th>\n",
       "    </tr>\n",
       "  </thead>\n",
       "  <tbody>\n",
       "    <tr>\n",
       "      <th>2574258</th>\n",
       "      <td>1</td>\n",
       "      <td>104488</td>\n",
       "      <td>202308</td>\n",
       "      <td>2</td>\n",
       "      <td>0.402569</td>\n",
       "      <td>0.682365</td>\n",
       "      <td>0.185597</td>\n",
       "      <td>1#104488</td>\n",
       "      <td>202308</td>\n",
       "    </tr>\n",
       "    <tr>\n",
       "      <th>2871968</th>\n",
       "      <td>100</td>\n",
       "      <td>362910</td>\n",
       "      <td>202308</td>\n",
       "      <td>1</td>\n",
       "      <td>0.232395</td>\n",
       "      <td>0.739224</td>\n",
       "      <td>0.182060</td>\n",
       "      <td>100#362910</td>\n",
       "      <td>202308</td>\n",
       "    </tr>\n",
       "    <tr>\n",
       "      <th>2336247</th>\n",
       "      <td>100</td>\n",
       "      <td>362960</td>\n",
       "      <td>202310</td>\n",
       "      <td>2</td>\n",
       "      <td>0.435284</td>\n",
       "      <td>0.737880</td>\n",
       "      <td>0.187280</td>\n",
       "      <td>100#362960</td>\n",
       "      <td>202310</td>\n",
       "    </tr>\n",
       "    <tr>\n",
       "      <th>3901730</th>\n",
       "      <td>1000</td>\n",
       "      <td>1066337</td>\n",
       "      <td>202310</td>\n",
       "      <td>1</td>\n",
       "      <td>0.831019</td>\n",
       "      <td>0.414249</td>\n",
       "      <td>0.340294</td>\n",
       "      <td>1000#1066337</td>\n",
       "      <td>202310</td>\n",
       "    </tr>\n",
       "    <tr>\n",
       "      <th>2542791</th>\n",
       "      <td>100002</td>\n",
       "      <td>45269</td>\n",
       "      <td>202309</td>\n",
       "      <td>1</td>\n",
       "      <td>0.281339</td>\n",
       "      <td>0.630578</td>\n",
       "      <td>0.294072</td>\n",
       "      <td>100002#45269</td>\n",
       "      <td>202309</td>\n",
       "    </tr>\n",
       "  </tbody>\n",
       "</table>\n",
       "</div>"
      ],
      "text/plain": [
       "         nit_enmascarado  num_oblig_enmascarado  fecha_corte  lote  \\\n",
       "2574258                1                 104488       202308     2   \n",
       "2871968              100                 362910       202308     1   \n",
       "2336247              100                 362960       202310     2   \n",
       "3901730             1000                1066337       202310     1   \n",
       "2542791           100002                  45269       202309     1   \n",
       "\n",
       "         prob_propension  prob_alrt_temprana  prob_auto_cura nit_num_oblig  \\\n",
       "2574258         0.402569            0.682365        0.185597      1#104488   \n",
       "2871968         0.232395            0.739224        0.182060    100#362910   \n",
       "2336247         0.435284            0.737880        0.187280    100#362960   \n",
       "3901730         0.831019            0.414249        0.340294  1000#1066337   \n",
       "2542791         0.281339            0.630578        0.294072  100002#45269   \n",
       "\n",
       "         fecha_var_rpta_alt  \n",
       "2574258              202308  \n",
       "2871968              202308  \n",
       "2336247              202310  \n",
       "3901730              202310  \n",
       "2542791              202309  "
      ]
     },
     "execution_count": 11,
     "metadata": {},
     "output_type": "execute_result"
    }
   ],
   "source": [
    "datos_probabilidades_final.head()"
   ]
  },
  {
   "cell_type": "code",
   "execution_count": 12,
   "metadata": {},
   "outputs": [
    {
     "name": "stdout",
     "output_type": "stream",
     "text": [
      "Duplicados en datos_probabilidades: 0\n"
     ]
    }
   ],
   "source": [
    "duplicados_datos_probabilidades_unicos = datos_probabilidades_final[datos_probabilidades_final.duplicated(subset=['nit_num_oblig'], keep=False)]\n",
    "print(f'Duplicados en datos_probabilidades: {len(duplicados_datos_probabilidades_unicos)}')"
   ]
  },
  {
   "cell_type": "code",
   "execution_count": 13,
   "metadata": {},
   "outputs": [
    {
     "name": "stderr",
     "output_type": "stream",
     "text": [
      "/tmp/ipykernel_1485/173397831.py:1: SettingWithCopyWarning: \n",
      "A value is trying to be set on a copy of a slice from a DataFrame\n",
      "\n",
      "See the caveats in the documentation: https://pandas.pydata.org/pandas-docs/stable/user_guide/indexing.html#returning-a-view-versus-a-copy\n",
      "  datos_probabilidades_final.drop('fecha_var_rpta_alt', axis=1, inplace=True)\n"
     ]
    }
   ],
   "source": [
    "datos_probabilidades_final.drop('fecha_var_rpta_alt', axis=1, inplace=True)"
   ]
  },
  {
   "cell_type": "markdown",
   "metadata": {},
   "source": [
    "Merge dataset con datos de probabilidades"
   ]
  },
  {
   "cell_type": "code",
   "execution_count": 14,
   "metadata": {},
   "outputs": [
    {
     "data": {
      "text/plain": [
       "(456233, 94)"
      ]
     },
     "execution_count": 14,
     "metadata": {},
     "output_type": "execute_result"
    }
   ],
   "source": [
    "dataset = pd.merge(dataset, datos_probabilidades_final, on='nit_num_oblig', how='inner')\n",
    "dataset.shape"
   ]
  },
  {
   "cell_type": "markdown",
   "metadata": {},
   "source": [
    "Datos pagos"
   ]
  },
  {
   "cell_type": "code",
   "execution_count": 15,
   "metadata": {},
   "outputs": [
    {
     "data": {
      "text/plain": [
       "0    482906#362297\n",
       "1    121735#186855\n",
       "2    582719#675503\n",
       "3    299903#107931\n",
       "4     88625#566060\n",
       "Name: nit_num_oblig, dtype: object"
      ]
     },
     "execution_count": 15,
     "metadata": {},
     "output_type": "execute_result"
    }
   ],
   "source": [
    "datos_pagos['nit_num_oblig'] = datos_pagos['nit_enmascarado'].astype(str) + '#' + datos_pagos['num_oblig_enmascarado'].astype(str)\n",
    "datos_pagos['nit_num_oblig'].head()"
   ]
  },
  {
   "cell_type": "code",
   "execution_count": 16,
   "metadata": {},
   "outputs": [],
   "source": [
    "datos_pagos_sorted = datos_pagos.sort_values(by=['nit_num_oblig', 'fecha_corte'], ascending=[True, False])\n",
    "datos_pagos_unicos = datos_pagos_sorted.drop_duplicates(subset=['nit_num_oblig'], keep='first')"
   ]
  },
  {
   "cell_type": "code",
   "execution_count": 17,
   "metadata": {},
   "outputs": [
    {
     "name": "stdout",
     "output_type": "stream",
     "text": [
      "Duplicados en datos_pagos: 0\n"
     ]
    }
   ],
   "source": [
    "duplicados_datos_pagos_unicos = datos_pagos_unicos[datos_pagos_unicos.duplicated(subset=['nit_num_oblig'], keep=False)]\n",
    "print(f'Duplicados en datos_pagos: {len(duplicados_datos_pagos_unicos)}')"
   ]
  },
  {
   "cell_type": "code",
   "execution_count": 21,
   "metadata": {},
   "outputs": [
    {
     "data": {
      "text/plain": [
       "(456233, 107)"
      ]
     },
     "execution_count": 21,
     "metadata": {},
     "output_type": "execute_result"
    }
   ],
   "source": [
    "df = pd.merge(dataset, datos_pagos_unicos, on='nit_num_oblig', how='inner')\n",
    "df.shape"
   ]
  },
  {
   "cell_type": "markdown",
   "metadata": {},
   "source": [
    "Depuración del DataSet"
   ]
  },
  {
   "cell_type": "markdown",
   "metadata": {},
   "source": [
    "Se depuraron los datos que puedan tener una relación directa con la variable a predecir, la cual no sería posible conocer su valor a priori"
   ]
  },
  {
   "cell_type": "code",
   "execution_count": 23,
   "metadata": {},
   "outputs": [],
   "source": [
    "columns_to_delete = ['marca_alt_apli','descripcion_ranking_mejor_ult','marca_alt_rank','pagos_tanque','descripcion_ranking_mejor_ult','sector','segm','act_econom','cant_acuerdo_binario','cant_gestiones_binario',\n",
    "                     'nit_enmascarado_x','num_oblig_orig_enmascarado', 'num_oblig_enmascarado_x',\n",
    "                     'producto_cons','alter_posible2_2','alter_posible3_2',\n",
    "                     'marca_alt_rank','marca_alternativa','marca_alternativa_orig','ano_nac_cli',\n",
    "                     'nit_enmascarado_y','num_oblig_enmascarado_y','fecha_corte_x','nit_enmascarado',\n",
    "                     'num_oblig_enmascarado','fecha_corte_y','fecha_pago_minima','fecha_pago_maxima',\n",
    "                     'nombre_dpto_dirp', 'fecha_var_rpta_alt', 'cod_tipo_doc', 'f_ult_mantenimiento', \n",
    "                     'year', 'month', 'ingestion_day', 'tipo_var_rpta_alt', 'desc_alternativa1','desc_alternativa2',\n",
    "                     'desc_alternativa3', 'smmlv']"
   ]
  },
  {
   "cell_type": "code",
   "execution_count": 24,
   "metadata": {},
   "outputs": [],
   "source": [
    "df.drop(columns_to_delete, axis=1, inplace=True)\n"
   ]
  },
  {
   "cell_type": "markdown",
   "metadata": {},
   "source": [
    "Eliminar duplicados datos pagos"
   ]
  },
  {
   "cell_type": "markdown",
   "metadata": {},
   "source": [
    "Merge dataset con datos de pagos"
   ]
  },
  {
   "cell_type": "code",
   "execution_count": 25,
   "metadata": {},
   "outputs": [
    {
     "data": {
      "text/plain": [
       "(456233, 69)"
      ]
     },
     "execution_count": 25,
     "metadata": {},
     "output_type": "execute_result"
    }
   ],
   "source": [
    "df.shape"
   ]
  },
  {
   "cell_type": "markdown",
   "metadata": {},
   "source": [
    "Se analizarán las variables con mayor cantidad de nulos para ver si se elimina la variable o se pueden imputar los datos faltantes con algún estimador insesgado"
   ]
  },
  {
   "cell_type": "code",
   "execution_count": 26,
   "metadata": {},
   "outputs": [
    {
     "data": {
      "text/plain": [
       "tipo_vivienda               307004\n",
       "alternativa_aplicada_agr    291288\n",
       "marca_agrupada_rgo          291287\n",
       "nivel_academico             252083\n",
       "porc_pago_mes               247059\n",
       "nicho                       240156\n",
       "canal_actualizacion          44232\n",
       "estado_civil                 34984\n",
       "ciiu                         29554\n",
       "subsector                    29554\n",
       "ocup                         24119\n",
       "cant_acuerdo                 15026\n",
       "cant_gestiones               14951\n",
       "subsegm                      13262\n",
       "genero_cli                   11796\n",
       "personas_dependientes        11783\n",
       "edad_cli                     11782\n",
       "num_hijos                    11782\n",
       "porc_pago                     7913\n",
       "origen_fondos                 4564\n",
       "vlr_obligacion                 486\n",
       "declarante                     148\n",
       "rpc                              2\n",
       "dtype: int64"
      ]
     },
     "execution_count": 26,
     "metadata": {},
     "output_type": "execute_result"
    }
   ],
   "source": [
    "missing_values = df.isnull().sum()\n",
    "missing_values = missing_values[missing_values > 0].sort_values(ascending=False)\n",
    "missing_values"
   ]
  },
  {
   "cell_type": "markdown",
   "metadata": {},
   "source": [
    "Variables a eliminar por su cantidad de nulos"
   ]
  },
  {
   "cell_type": "code",
   "execution_count": 27,
   "metadata": {},
   "outputs": [],
   "source": [
    "columns_to_delete = ['tipo_vivienda','alternativa_aplicada_agr','marca_agrupada_rgo','nivel_academico',\n",
    "                     'porc_pago_mes','nicho','canal_actualizacion','estado_civil']\n",
    "df.drop(columns_to_delete, axis=1, inplace=True)"
   ]
  },
  {
   "cell_type": "markdown",
   "metadata": {},
   "source": [
    "Imputación de datos faltantes"
   ]
  },
  {
   "cell_type": "code",
   "execution_count": 28,
   "metadata": {},
   "outputs": [
    {
     "name": "stdout",
     "output_type": "stream",
     "text": [
      "456\n"
     ]
    },
    {
     "data": {
      "text/plain": [
       "ciiu\n",
       "ASALARIADOS                                                             356611\n",
       "RENTISTAS DE CAPITAL SÓLO PARA PERSONAS NATURALES                         6192\n",
       "OTRAS ACTIVIDADES DE SERVICIO DE APOYO A LAS EMPRESAS N.C.P.              4817\n",
       "TRANSPORTE DE CARGA POR CARRETERA                                         3082\n",
       "OTRAS ACTIVIDADES DE SERVICIOS PERSONALES N.C.P.                          1982\n",
       "                                                                         ...  \n",
       "ACTIVIDADES DE LAS CASAS DE CAMBIO                                           1\n",
       "EXTRACCIÓN DE OTROS MINERALES NO METÁLICOS N.C.P.                            1\n",
       "FABRICACIÓN DE INSTRUMENTOS ÓPTICOS Y EQUIPO FOTOGRÁFICO                     1\n",
       "ACTIVIDADES DE TELECOMUNICACIÓN SATELITAL                                    1\n",
       "CAZA ORDINARIA Y MEDIANTE TRAMPAS Y ACTIVIDADES DE SERVICIOS CONEXAS         1\n",
       "Name: count, Length: 456, dtype: int64"
      ]
     },
     "execution_count": 28,
     "metadata": {},
     "output_type": "execute_result"
    }
   ],
   "source": [
    "ciiu_counts = df['ciiu'].value_counts()\n",
    "print(len(ciiu_counts))\n",
    "ciiu_counts"
   ]
  },
  {
   "cell_type": "code",
   "execution_count": 29,
   "metadata": {},
   "outputs": [
    {
     "name": "stderr",
     "output_type": "stream",
     "text": [
      "/tmp/ipykernel_1485/2164114025.py:1: FutureWarning: A value is trying to be set on a copy of a DataFrame or Series through chained assignment using an inplace method.\n",
      "The behavior will change in pandas 3.0. This inplace method will never work because the intermediate object on which we are setting values always behaves as a copy.\n",
      "\n",
      "For example, when doing 'df[col].method(value, inplace=True)', try using 'df.method({col: value}, inplace=True)' or df[col] = df[col].method(value) instead, to perform the operation inplace on the original object.\n",
      "\n",
      "\n",
      "  df['ciiu'].fillna('NO REGISTRA', inplace=True)\n"
     ]
    }
   ],
   "source": [
    "df['ciiu'].fillna('NO REGISTRA', inplace=True)"
   ]
  },
  {
   "cell_type": "code",
   "execution_count": 30,
   "metadata": {},
   "outputs": [],
   "source": [
    "df['ciiu'] = ['ASALARIADO' if valor == 'ASALARIADOS' else 'NO REGISTRA' if valor == 'NO REGISTRA' else 'OTRO' for valor in df['ciiu']]"
   ]
  },
  {
   "cell_type": "code",
   "execution_count": 31,
   "metadata": {},
   "outputs": [
    {
     "name": "stdout",
     "output_type": "stream",
     "text": [
      "85\n"
     ]
    },
    {
     "data": {
      "text/plain": [
       "subsector\n",
       "PERSONAS NATURALES                    362803\n",
       "SERVICIOS A EMPRESAS                   16272\n",
       "SERVICIOS A PERSONAS                    7228\n",
       "COMERCIO DE VARIEDADES Y VESTUARIO      5914\n",
       "TRANSPORTE TERRESTRE                    4614\n",
       "                                       ...  \n",
       "BEBIDAS ALCOHÓLICAS                        5\n",
       "TABACO                                     4\n",
       "ALGODÓN                                    4\n",
       "EPS Y SALUD PREPAGADA (SALUD)              2\n",
       "BANCOS                                     2\n",
       "Name: count, Length: 85, dtype: int64"
      ]
     },
     "execution_count": 31,
     "metadata": {},
     "output_type": "execute_result"
    }
   ],
   "source": [
    "subsector_counts = df['subsector'].value_counts()\n",
    "print(len(subsector_counts))\n",
    "subsector_counts"
   ]
  },
  {
   "cell_type": "code",
   "execution_count": 32,
   "metadata": {},
   "outputs": [
    {
     "name": "stderr",
     "output_type": "stream",
     "text": [
      "/tmp/ipykernel_1485/3864922962.py:1: FutureWarning: A value is trying to be set on a copy of a DataFrame or Series through chained assignment using an inplace method.\n",
      "The behavior will change in pandas 3.0. This inplace method will never work because the intermediate object on which we are setting values always behaves as a copy.\n",
      "\n",
      "For example, when doing 'df[col].method(value, inplace=True)', try using 'df.method({col: value}, inplace=True)' or df[col] = df[col].method(value) instead, to perform the operation inplace on the original object.\n",
      "\n",
      "\n",
      "  df['subsector'].fillna('NO REGISTRA', inplace=True)\n"
     ]
    }
   ],
   "source": [
    "df['subsector'].fillna('NO REGISTRA', inplace=True)"
   ]
  },
  {
   "cell_type": "code",
   "execution_count": 33,
   "metadata": {},
   "outputs": [],
   "source": [
    "df['subsector'] = ['NATURALES' if valor == 'PERSONAS NATURALES' else 'NO REGISTRA' if valor == 'NO REGISTRA' else 'OTRO' for valor in df['subsector']]"
   ]
  },
  {
   "cell_type": "code",
   "execution_count": 34,
   "metadata": {},
   "outputs": [
    {
     "name": "stdout",
     "output_type": "stream",
     "text": [
      "14\n"
     ]
    },
    {
     "data": {
      "text/plain": [
       "ocup\n",
       "EMPLEADO                     286575\n",
       "INDEPENDIENTE                 33388\n",
       "ESTUDIANTE                    27198\n",
       "PENSIONADO                    22347\n",
       "PROFESIONAL INDEPENDIENTE     18458\n",
       "AMA DE CASA                   13519\n",
       "COMERCIANTE                    8072\n",
       "OTRA                           7532\n",
       "SOCIO O EMPLEADO - SOCIO       6265\n",
       "RENTISTA DE CAPITAL            2452\n",
       "DESEMPLEADO CON INGRESOS       1861\n",
       "AGRICULTOR                     1848\n",
       "DESEMPLEADO SIN INGRESOS       1373\n",
       "GANADERO                       1226\n",
       "Name: count, dtype: int64"
      ]
     },
     "execution_count": 34,
     "metadata": {},
     "output_type": "execute_result"
    }
   ],
   "source": [
    "ocupacion_counts = df['ocup'].value_counts()\n",
    "print(len(ocupacion_counts))\n",
    "ocupacion_counts"
   ]
  },
  {
   "cell_type": "code",
   "execution_count": 35,
   "metadata": {},
   "outputs": [
    {
     "name": "stderr",
     "output_type": "stream",
     "text": [
      "/tmp/ipykernel_1485/3233819139.py:1: FutureWarning: A value is trying to be set on a copy of a DataFrame or Series through chained assignment using an inplace method.\n",
      "The behavior will change in pandas 3.0. This inplace method will never work because the intermediate object on which we are setting values always behaves as a copy.\n",
      "\n",
      "For example, when doing 'df[col].method(value, inplace=True)', try using 'df.method({col: value}, inplace=True)' or df[col] = df[col].method(value) instead, to perform the operation inplace on the original object.\n",
      "\n",
      "\n",
      "  df['ocup'].fillna('NO REGISTRA', inplace=True)\n"
     ]
    }
   ],
   "source": [
    "df['ocup'].fillna('NO REGISTRA', inplace=True)"
   ]
  },
  {
   "cell_type": "code",
   "execution_count": 36,
   "metadata": {},
   "outputs": [
    {
     "data": {
      "text/plain": [
       "count    441207.000000\n",
       "mean          1.110508\n",
       "std           2.125219\n",
       "min           0.000000\n",
       "25%           0.000000\n",
       "50%           0.000000\n",
       "75%           2.000000\n",
       "max          40.000000\n",
       "Name: cant_acuerdo, dtype: float64"
      ]
     },
     "execution_count": 36,
     "metadata": {},
     "output_type": "execute_result"
    }
   ],
   "source": [
    "df['cant_acuerdo'].describe()"
   ]
  },
  {
   "cell_type": "code",
   "execution_count": 37,
   "metadata": {},
   "outputs": [
    {
     "name": "stderr",
     "output_type": "stream",
     "text": [
      "/tmp/ipykernel_1485/1987181876.py:1: FutureWarning: A value is trying to be set on a copy of a DataFrame or Series through chained assignment using an inplace method.\n",
      "The behavior will change in pandas 3.0. This inplace method will never work because the intermediate object on which we are setting values always behaves as a copy.\n",
      "\n",
      "For example, when doing 'df[col].method(value, inplace=True)', try using 'df.method({col: value}, inplace=True)' or df[col] = df[col].method(value) instead, to perform the operation inplace on the original object.\n",
      "\n",
      "\n",
      "  df['cant_acuerdo'].fillna(0, inplace=True)\n"
     ]
    }
   ],
   "source": [
    "df['cant_acuerdo'].fillna(0, inplace=True)"
   ]
  },
  {
   "cell_type": "code",
   "execution_count": 38,
   "metadata": {},
   "outputs": [
    {
     "name": "stderr",
     "output_type": "stream",
     "text": [
      "/tmp/ipykernel_1485/2295259971.py:1: FutureWarning: A value is trying to be set on a copy of a DataFrame or Series through chained assignment using an inplace method.\n",
      "The behavior will change in pandas 3.0. This inplace method will never work because the intermediate object on which we are setting values always behaves as a copy.\n",
      "\n",
      "For example, when doing 'df[col].method(value, inplace=True)', try using 'df.method({col: value}, inplace=True)' or df[col] = df[col].method(value) instead, to perform the operation inplace on the original object.\n",
      "\n",
      "\n",
      "  df['cant_gestiones'].fillna(0, inplace=True)\n"
     ]
    }
   ],
   "source": [
    "df['cant_gestiones'].fillna(0, inplace=True)"
   ]
  },
  {
   "cell_type": "code",
   "execution_count": 39,
   "metadata": {},
   "outputs": [
    {
     "name": "stdout",
     "output_type": "stream",
     "text": [
      "16\n"
     ]
    },
    {
     "data": {
      "text/plain": [
       "subsegm\n",
       "MEDIO                    221426\n",
       "BASICO                   101419\n",
       "ALTO                      56204\n",
       "PEQUE#O                   27126\n",
       "MEDIANO                   11504\n",
       "PEQUENA                    8053\n",
       "GRANDE                     7357\n",
       "MEDIANA                    2999\n",
       "MiPyme                     2875\n",
       "PLUS                       1696\n",
       "RELACIONAMIENTO            1245\n",
       "PREFERENCIAL PLUS           712\n",
       "PREF CONCILIACION           223\n",
       "PREFERENCIAL COLOMBIA       119\n",
       "NO APLICA                     8\n",
       "PREF.COLOMBIA                 5\n",
       "Name: count, dtype: int64"
      ]
     },
     "execution_count": 39,
     "metadata": {},
     "output_type": "execute_result"
    }
   ],
   "source": [
    "subsegmento_counts = df['subsegm'].value_counts()\n",
    "print(len(subsegmento_counts))\n",
    "subsegmento_counts"
   ]
  },
  {
   "cell_type": "code",
   "execution_count": 40,
   "metadata": {},
   "outputs": [
    {
     "name": "stderr",
     "output_type": "stream",
     "text": [
      "/tmp/ipykernel_1485/2440278629.py:1: FutureWarning: A value is trying to be set on a copy of a DataFrame or Series through chained assignment using an inplace method.\n",
      "The behavior will change in pandas 3.0. This inplace method will never work because the intermediate object on which we are setting values always behaves as a copy.\n",
      "\n",
      "For example, when doing 'df[col].method(value, inplace=True)', try using 'df.method({col: value}, inplace=True)' or df[col] = df[col].method(value) instead, to perform the operation inplace on the original object.\n",
      "\n",
      "\n",
      "  df['subsegm'].fillna('NO REGISTRA', inplace=True)\n"
     ]
    }
   ],
   "source": [
    "df['subsegm'].fillna('NO REGISTRA', inplace=True)"
   ]
  },
  {
   "cell_type": "code",
   "execution_count": 41,
   "metadata": {},
   "outputs": [],
   "source": [
    "df['subsegm'] = ['MEDIO' if valor == 'MEDIANO' or valor == 'MEDIANA' else valor for valor in df['subsegm']]\n",
    "df['subsegm'] = ['PEQUENO' if valor == 'PEQUE#O' or valor == 'PEQUENA' else valor for valor in df['subsegm']]\n",
    "df['subsegm'] = ['ALTO' if valor == 'GRANDE' else valor for valor in df['subsegm']]"
   ]
  },
  {
   "cell_type": "code",
   "execution_count": 42,
   "metadata": {},
   "outputs": [
    {
     "name": "stdout",
     "output_type": "stream",
     "text": [
      "2\n"
     ]
    },
    {
     "data": {
      "text/plain": [
       "genero_cli\n",
       "M    231425\n",
       "F    213012\n",
       "Name: count, dtype: int64"
      ]
     },
     "execution_count": 42,
     "metadata": {},
     "output_type": "execute_result"
    }
   ],
   "source": [
    "generocli_counts = df['genero_cli'].value_counts()\n",
    "print(len(generocli_counts))\n",
    "generocli_counts"
   ]
  },
  {
   "cell_type": "code",
   "execution_count": 43,
   "metadata": {},
   "outputs": [
    {
     "name": "stderr",
     "output_type": "stream",
     "text": [
      "/tmp/ipykernel_1485/2358772325.py:1: FutureWarning: A value is trying to be set on a copy of a DataFrame or Series through chained assignment using an inplace method.\n",
      "The behavior will change in pandas 3.0. This inplace method will never work because the intermediate object on which we are setting values always behaves as a copy.\n",
      "\n",
      "For example, when doing 'df[col].method(value, inplace=True)', try using 'df.method({col: value}, inplace=True)' or df[col] = df[col].method(value) instead, to perform the operation inplace on the original object.\n",
      "\n",
      "\n",
      "  df['genero_cli'].fillna('NO REGISTRA', inplace=True)\n"
     ]
    }
   ],
   "source": [
    "df['genero_cli'].fillna('NO REGISTRA', inplace=True)"
   ]
  },
  {
   "cell_type": "code",
   "execution_count": 44,
   "metadata": {},
   "outputs": [
    {
     "name": "stdout",
     "output_type": "stream",
     "text": [
      "26\n"
     ]
    },
    {
     "data": {
      "text/plain": [
       "personas_dependientes\n",
       "0.0     387037\n",
       "1.0      22632\n",
       "2.0      19171\n",
       "3.0       9596\n",
       "4.0       4121\n",
       "5.0       1302\n",
       "6.0        302\n",
       "7.0        141\n",
       "8.0         51\n",
       "11.0        15\n",
       "10.0        15\n",
       "9.0         13\n",
       "60.0        10\n",
       "16.0         9\n",
       "15.0         6\n",
       "20.0         6\n",
       "30.0         4\n",
       "22.0         3\n",
       "32.0         3\n",
       "12.0         3\n",
       "21.0         3\n",
       "13.0         3\n",
       "91.0         1\n",
       "40.0         1\n",
       "31.0         1\n",
       "24.0         1\n",
       "Name: count, dtype: int64"
      ]
     },
     "execution_count": 44,
     "metadata": {},
     "output_type": "execute_result"
    }
   ],
   "source": [
    "personasdepend_counts = df['personas_dependientes'].value_counts()\n",
    "print(len(personasdepend_counts))\n",
    "personasdepend_counts"
   ]
  },
  {
   "cell_type": "code",
   "execution_count": 45,
   "metadata": {},
   "outputs": [
    {
     "data": {
      "text/plain": [
       "count    444450.000000\n",
       "mean          0.265395\n",
       "std           0.877377\n",
       "min           0.000000\n",
       "25%           0.000000\n",
       "50%           0.000000\n",
       "75%           0.000000\n",
       "max          91.000000\n",
       "Name: personas_dependientes, dtype: float64"
      ]
     },
     "execution_count": 45,
     "metadata": {},
     "output_type": "execute_result"
    }
   ],
   "source": [
    "df['personas_dependientes'].describe()"
   ]
  },
  {
   "cell_type": "code",
   "execution_count": 46,
   "metadata": {},
   "outputs": [
    {
     "name": "stderr",
     "output_type": "stream",
     "text": [
      "/tmp/ipykernel_1485/2320525710.py:1: FutureWarning: A value is trying to be set on a copy of a DataFrame or Series through chained assignment using an inplace method.\n",
      "The behavior will change in pandas 3.0. This inplace method will never work because the intermediate object on which we are setting values always behaves as a copy.\n",
      "\n",
      "For example, when doing 'df[col].method(value, inplace=True)', try using 'df.method({col: value}, inplace=True)' or df[col] = df[col].method(value) instead, to perform the operation inplace on the original object.\n",
      "\n",
      "\n",
      "  df['personas_dependientes'].fillna(0, inplace=True)\n"
     ]
    }
   ],
   "source": [
    "df['personas_dependientes'].fillna(0, inplace=True)"
   ]
  },
  {
   "cell_type": "code",
   "execution_count": 47,
   "metadata": {},
   "outputs": [
    {
     "data": {
      "text/plain": [
       "count    456233.000000\n",
       "mean          0.258541\n",
       "std           0.866995\n",
       "min           0.000000\n",
       "25%           0.000000\n",
       "50%           0.000000\n",
       "75%           0.000000\n",
       "max          91.000000\n",
       "Name: personas_dependientes, dtype: float64"
      ]
     },
     "execution_count": 47,
     "metadata": {},
     "output_type": "execute_result"
    }
   ],
   "source": [
    "df['personas_dependientes'].describe()"
   ]
  },
  {
   "cell_type": "code",
   "execution_count": 48,
   "metadata": {},
   "outputs": [
    {
     "data": {
      "text/plain": [
       "count    444451.000000\n",
       "mean          0.221988\n",
       "std           0.865770\n",
       "min           0.000000\n",
       "25%           0.000000\n",
       "50%           0.000000\n",
       "75%           0.000000\n",
       "max          96.000000\n",
       "Name: num_hijos, dtype: float64"
      ]
     },
     "execution_count": 48,
     "metadata": {},
     "output_type": "execute_result"
    }
   ],
   "source": [
    "df['num_hijos'].describe()"
   ]
  },
  {
   "cell_type": "code",
   "execution_count": 49,
   "metadata": {},
   "outputs": [
    {
     "name": "stderr",
     "output_type": "stream",
     "text": [
      "/tmp/ipykernel_1485/2290332444.py:1: FutureWarning: A value is trying to be set on a copy of a DataFrame or Series through chained assignment using an inplace method.\n",
      "The behavior will change in pandas 3.0. This inplace method will never work because the intermediate object on which we are setting values always behaves as a copy.\n",
      "\n",
      "For example, when doing 'df[col].method(value, inplace=True)', try using 'df.method({col: value}, inplace=True)' or df[col] = df[col].method(value) instead, to perform the operation inplace on the original object.\n",
      "\n",
      "\n",
      "  df['num_hijos'].fillna(0, inplace=True)\n"
     ]
    }
   ],
   "source": [
    "df['num_hijos'].fillna(0, inplace=True)"
   ]
  },
  {
   "cell_type": "code",
   "execution_count": 50,
   "metadata": {},
   "outputs": [
    {
     "data": {
      "text/plain": [
       "count    444451.000000\n",
       "mean         41.187082\n",
       "std          13.880988\n",
       "min           0.000000\n",
       "25%          31.000000\n",
       "50%          39.000000\n",
       "75%          49.000000\n",
       "max         123.000000\n",
       "Name: edad_cli, dtype: float64"
      ]
     },
     "execution_count": 50,
     "metadata": {},
     "output_type": "execute_result"
    }
   ],
   "source": [
    "df['edad_cli'].describe()"
   ]
  },
  {
   "cell_type": "code",
   "execution_count": 51,
   "metadata": {},
   "outputs": [
    {
     "name": "stderr",
     "output_type": "stream",
     "text": [
      "/tmp/ipykernel_1485/1249752402.py:1: FutureWarning: A value is trying to be set on a copy of a DataFrame or Series through chained assignment using an inplace method.\n",
      "The behavior will change in pandas 3.0. This inplace method will never work because the intermediate object on which we are setting values always behaves as a copy.\n",
      "\n",
      "For example, when doing 'df[col].method(value, inplace=True)', try using 'df.method({col: value}, inplace=True)' or df[col] = df[col].method(value) instead, to perform the operation inplace on the original object.\n",
      "\n",
      "\n",
      "  df['num_hijos'].fillna(df['num_hijos'].mean(), inplace=True)\n"
     ]
    }
   ],
   "source": [
    "df['num_hijos'].fillna(df['num_hijos'].mean(), inplace=True)"
   ]
  },
  {
   "cell_type": "code",
   "execution_count": 52,
   "metadata": {},
   "outputs": [
    {
     "data": {
      "text/plain": [
       "count    444451.000000\n",
       "mean         41.187082\n",
       "std          13.880988\n",
       "min           0.000000\n",
       "25%          31.000000\n",
       "50%          39.000000\n",
       "75%          49.000000\n",
       "max         123.000000\n",
       "Name: edad_cli, dtype: float64"
      ]
     },
     "execution_count": 52,
     "metadata": {},
     "output_type": "execute_result"
    }
   ],
   "source": [
    "df['edad_cli'].describe()"
   ]
  },
  {
   "cell_type": "code",
   "execution_count": 53,
   "metadata": {},
   "outputs": [
    {
     "name": "stderr",
     "output_type": "stream",
     "text": [
      "/tmp/ipykernel_1485/3891237186.py:1: FutureWarning: A value is trying to be set on a copy of a DataFrame or Series through chained assignment using an inplace method.\n",
      "The behavior will change in pandas 3.0. This inplace method will never work because the intermediate object on which we are setting values always behaves as a copy.\n",
      "\n",
      "For example, when doing 'df[col].method(value, inplace=True)', try using 'df.method({col: value}, inplace=True)' or df[col] = df[col].method(value) instead, to perform the operation inplace on the original object.\n",
      "\n",
      "\n",
      "  df['edad_cli'].fillna(df['edad_cli'].mean(), inplace=True)\n"
     ]
    }
   ],
   "source": [
    "df['edad_cli'].fillna(df['edad_cli'].mean(), inplace=True)"
   ]
  },
  {
   "cell_type": "code",
   "execution_count": 54,
   "metadata": {},
   "outputs": [
    {
     "name": "stderr",
     "output_type": "stream",
     "text": [
      "/tmp/ipykernel_1485/608754133.py:1: FutureWarning: A value is trying to be set on a copy of a DataFrame or Series through chained assignment using an inplace method.\n",
      "The behavior will change in pandas 3.0. This inplace method will never work because the intermediate object on which we are setting values always behaves as a copy.\n",
      "\n",
      "For example, when doing 'df[col].method(value, inplace=True)', try using 'df.method({col: value}, inplace=True)' or df[col] = df[col].method(value) instead, to perform the operation inplace on the original object.\n",
      "\n",
      "\n",
      "  df['porc_pago'].fillna(0, inplace=True)\n"
     ]
    }
   ],
   "source": [
    "df['porc_pago'].fillna(0, inplace=True)"
   ]
  },
  {
   "cell_type": "code",
   "execution_count": 55,
   "metadata": {},
   "outputs": [
    {
     "name": "stdout",
     "output_type": "stream",
     "text": [
      "10\n"
     ]
    },
    {
     "data": {
      "text/plain": [
       "origen_fondos\n",
       "SALARIO Y DEMAS PAGOS LABORALES           242450\n",
       "OTROS                                     185963\n",
       "HONORARIOS Y COMISIONES                     9272\n",
       "VENTAS NETAS                                5287\n",
       "DESARROLLO DEL OBJETO SOCIAL DE LA PJ       4261\n",
       "UTILIDADES DEL NEGOCIO                      1252\n",
       "CAPITALIZACION POR PARTE DE LOS SOCIOS      1181\n",
       "INTERESES Y RENDIMIENTOS FINANCIEROS        1129\n",
       "DIVIDENDOS Y PARTICIPACIONES                 860\n",
       "RENDIMIENTOS POR INVERSIÓN                    14\n",
       "Name: count, dtype: int64"
      ]
     },
     "execution_count": 55,
     "metadata": {},
     "output_type": "execute_result"
    }
   ],
   "source": [
    "origenfondos_counts = df['origen_fondos'].value_counts()\n",
    "print(len(origenfondos_counts))\n",
    "origenfondos_counts"
   ]
  },
  {
   "cell_type": "code",
   "execution_count": 56,
   "metadata": {},
   "outputs": [
    {
     "name": "stderr",
     "output_type": "stream",
     "text": [
      "/tmp/ipykernel_1485/56577716.py:1: FutureWarning: A value is trying to be set on a copy of a DataFrame or Series through chained assignment using an inplace method.\n",
      "The behavior will change in pandas 3.0. This inplace method will never work because the intermediate object on which we are setting values always behaves as a copy.\n",
      "\n",
      "For example, when doing 'df[col].method(value, inplace=True)', try using 'df.method({col: value}, inplace=True)' or df[col] = df[col].method(value) instead, to perform the operation inplace on the original object.\n",
      "\n",
      "\n",
      "  df['origen_fondos'].fillna(\"NO REGISTRA\", inplace=True)\n"
     ]
    }
   ],
   "source": [
    "df['origen_fondos'].fillna(\"NO REGISTRA\", inplace=True)"
   ]
  },
  {
   "cell_type": "code",
   "execution_count": 57,
   "metadata": {},
   "outputs": [
    {
     "data": {
      "text/plain": [
       "count    4.557470e+05\n",
       "mean     1.169339e+07\n",
       "std      2.502361e+07\n",
       "min      0.000000e+00\n",
       "25%      1.580381e+06\n",
       "50%      4.177424e+06\n",
       "75%      1.083460e+07\n",
       "max      1.589994e+09\n",
       "Name: vlr_obligacion, dtype: float64"
      ]
     },
     "execution_count": 57,
     "metadata": {},
     "output_type": "execute_result"
    }
   ],
   "source": [
    "df['vlr_obligacion'].describe()"
   ]
  },
  {
   "cell_type": "code",
   "execution_count": 58,
   "metadata": {},
   "outputs": [
    {
     "name": "stderr",
     "output_type": "stream",
     "text": [
      "/tmp/ipykernel_1485/2923847177.py:1: FutureWarning: A value is trying to be set on a copy of a DataFrame or Series through chained assignment using an inplace method.\n",
      "The behavior will change in pandas 3.0. This inplace method will never work because the intermediate object on which we are setting values always behaves as a copy.\n",
      "\n",
      "For example, when doing 'df[col].method(value, inplace=True)', try using 'df.method({col: value}, inplace=True)' or df[col] = df[col].method(value) instead, to perform the operation inplace on the original object.\n",
      "\n",
      "\n",
      "  df['vlr_obligacion'].fillna(df['vlr_obligacion'].median(), inplace=True)\n"
     ]
    }
   ],
   "source": [
    "df['vlr_obligacion'].fillna(df['vlr_obligacion'].median(), inplace=True)"
   ]
  },
  {
   "cell_type": "code",
   "execution_count": 59,
   "metadata": {},
   "outputs": [
    {
     "name": "stdout",
     "output_type": "stream",
     "text": [
      "2\n"
     ]
    },
    {
     "data": {
      "text/plain": [
       "declarante\n",
       "N    408339\n",
       "S     47746\n",
       "Name: count, dtype: int64"
      ]
     },
     "execution_count": 59,
     "metadata": {},
     "output_type": "execute_result"
    }
   ],
   "source": [
    "declarante_counts = df['declarante'].value_counts()\n",
    "print(len(declarante_counts))\n",
    "declarante_counts"
   ]
  },
  {
   "cell_type": "code",
   "execution_count": 60,
   "metadata": {},
   "outputs": [
    {
     "name": "stderr",
     "output_type": "stream",
     "text": [
      "/tmp/ipykernel_1485/1367438067.py:1: FutureWarning: A value is trying to be set on a copy of a DataFrame or Series through chained assignment using an inplace method.\n",
      "The behavior will change in pandas 3.0. This inplace method will never work because the intermediate object on which we are setting values always behaves as a copy.\n",
      "\n",
      "For example, when doing 'df[col].method(value, inplace=True)', try using 'df.method({col: value}, inplace=True)' or df[col] = df[col].method(value) instead, to perform the operation inplace on the original object.\n",
      "\n",
      "\n",
      "  df['declarante'].fillna('N', inplace=True)\n"
     ]
    }
   ],
   "source": [
    "df['declarante'].fillna('N', inplace=True)"
   ]
  },
  {
   "cell_type": "code",
   "execution_count": 61,
   "metadata": {},
   "outputs": [
    {
     "name": "stderr",
     "output_type": "stream",
     "text": [
      "/tmp/ipykernel_1485/307850175.py:1: FutureWarning: A value is trying to be set on a copy of a DataFrame or Series through chained assignment using an inplace method.\n",
      "The behavior will change in pandas 3.0. This inplace method will never work because the intermediate object on which we are setting values always behaves as a copy.\n",
      "\n",
      "For example, when doing 'df[col].method(value, inplace=True)', try using 'df.method({col: value}, inplace=True)' or df[col] = df[col].method(value) instead, to perform the operation inplace on the original object.\n",
      "\n",
      "\n",
      "  df['rpc'].fillna(0, inplace=True)\n"
     ]
    }
   ],
   "source": [
    "df['rpc'].fillna(0, inplace=True)"
   ]
  },
  {
   "cell_type": "code",
   "execution_count": 62,
   "metadata": {},
   "outputs": [
    {
     "data": {
      "text/plain": [
       "Series([], dtype: int64)"
      ]
     },
     "execution_count": 62,
     "metadata": {},
     "output_type": "execute_result"
    }
   ],
   "source": [
    "missing_values = df.isnull().sum()\n",
    "missing_values = missing_values[missing_values > 0].sort_values(ascending=False)\n",
    "missing_values"
   ]
  },
  {
   "cell_type": "code",
   "execution_count": 63,
   "metadata": {},
   "outputs": [
    {
     "data": {
      "text/plain": [
       "Index(['var_rpta_alt', 'min_mora', 'max_mora', 'dias_mora_fin',\n",
       "       'cant_alter_posibles', 'promesas_cumplidas',\n",
       "       'cant_promesas_cumplidas_binario', 'f_vinc', 'lote'],\n",
       "      dtype='object')"
      ]
     },
     "execution_count": 63,
     "metadata": {},
     "output_type": "execute_result"
    }
   ],
   "source": [
    "int_columns = df.select_dtypes(include=['int64']).columns\n",
    "int_columns"
   ]
  },
  {
   "cell_type": "code",
   "execution_count": 64,
   "metadata": {},
   "outputs": [
    {
     "data": {
      "text/plain": [
       "count    456233.000000\n",
       "mean         26.836246\n",
       "std          25.835780\n",
       "min           1.000000\n",
       "25%           4.000000\n",
       "50%          17.000000\n",
       "75%          46.000000\n",
       "max          90.000000\n",
       "Name: min_mora, dtype: float64"
      ]
     },
     "execution_count": 64,
     "metadata": {},
     "output_type": "execute_result"
    }
   ],
   "source": [
    "df['min_mora'].describe()"
   ]
  },
  {
   "cell_type": "code",
   "execution_count": 65,
   "metadata": {},
   "outputs": [
    {
     "data": {
      "text/plain": [
       "count    456233.000000\n",
       "mean         48.530749\n",
       "std          32.117126\n",
       "min           1.000000\n",
       "25%          23.000000\n",
       "50%          43.000000\n",
       "75%          70.000000\n",
       "max        1612.000000\n",
       "Name: max_mora, dtype: float64"
      ]
     },
     "execution_count": 65,
     "metadata": {},
     "output_type": "execute_result"
    }
   ],
   "source": [
    "df['max_mora'].describe()"
   ]
  },
  {
   "cell_type": "code",
   "execution_count": 66,
   "metadata": {},
   "outputs": [
    {
     "data": {
      "text/plain": [
       "np.float64(109.0)"
      ]
     },
     "execution_count": 66,
     "metadata": {},
     "output_type": "execute_result"
    }
   ],
   "source": [
    "df['max_mora'].quantile(0.95)"
   ]
  },
  {
   "cell_type": "code",
   "execution_count": 67,
   "metadata": {},
   "outputs": [],
   "source": [
    "df['max_mora'] = [109 if value > 109 else value for value in df['max_mora']]"
   ]
  },
  {
   "cell_type": "code",
   "execution_count": 68,
   "metadata": {},
   "outputs": [
    {
     "data": {
      "text/plain": [
       "count    456233.000000\n",
       "mean         37.244879\n",
       "std          35.205280\n",
       "min           0.000000\n",
       "25%           0.000000\n",
       "50%          29.000000\n",
       "75%          60.000000\n",
       "max         609.000000\n",
       "Name: dias_mora_fin, dtype: float64"
      ]
     },
     "execution_count": 68,
     "metadata": {},
     "output_type": "execute_result"
    }
   ],
   "source": [
    "df['dias_mora_fin'].describe()\n"
   ]
  },
  {
   "cell_type": "code",
   "execution_count": 69,
   "metadata": {},
   "outputs": [
    {
     "data": {
      "text/plain": [
       "np.float64(106.0)"
      ]
     },
     "execution_count": 69,
     "metadata": {},
     "output_type": "execute_result"
    }
   ],
   "source": [
    "df['dias_mora_fin'].quantile(0.95)"
   ]
  },
  {
   "cell_type": "code",
   "execution_count": 70,
   "metadata": {},
   "outputs": [],
   "source": [
    "df['max_mora'] = [106 if value > 106 else value for value in df['dias_mora_fin']]"
   ]
  },
  {
   "cell_type": "code",
   "execution_count": 71,
   "metadata": {},
   "outputs": [
    {
     "data": {
      "text/plain": [
       "count    456233.000000\n",
       "mean          1.810242\n",
       "std           0.864049\n",
       "min           1.000000\n",
       "25%           1.000000\n",
       "50%           2.000000\n",
       "75%           3.000000\n",
       "max          12.000000\n",
       "Name: cant_alter_posibles, dtype: float64"
      ]
     },
     "execution_count": 71,
     "metadata": {},
     "output_type": "execute_result"
    }
   ],
   "source": [
    "df['cant_alter_posibles'].describe()"
   ]
  },
  {
   "cell_type": "code",
   "execution_count": 72,
   "metadata": {},
   "outputs": [
    {
     "data": {
      "text/plain": [
       "count    456233.000000\n",
       "mean          0.211475\n",
       "std           0.688404\n",
       "min           0.000000\n",
       "25%           0.000000\n",
       "50%           0.000000\n",
       "75%           0.000000\n",
       "max          16.000000\n",
       "Name: promesas_cumplidas, dtype: float64"
      ]
     },
     "execution_count": 72,
     "metadata": {},
     "output_type": "execute_result"
    }
   ],
   "source": [
    "df['promesas_cumplidas'].describe()"
   ]
  },
  {
   "cell_type": "code",
   "execution_count": 73,
   "metadata": {},
   "outputs": [
    {
     "data": {
      "text/plain": [
       "0    20200629\n",
       "1    20180829\n",
       "2    19870810\n",
       "3    19850301\n",
       "4    20080826\n",
       "Name: f_vinc, dtype: int64"
      ]
     },
     "execution_count": 73,
     "metadata": {},
     "output_type": "execute_result"
    }
   ],
   "source": [
    "df['f_vinc'].head()"
   ]
  },
  {
   "cell_type": "code",
   "execution_count": 74,
   "metadata": {},
   "outputs": [],
   "source": [
    "df['fecha_vinc'] = pd.to_datetime(df['f_vinc'].astype(str), format='%Y%m%d')"
   ]
  },
  {
   "cell_type": "code",
   "execution_count": 75,
   "metadata": {},
   "outputs": [],
   "source": [
    "fecha_referencia = pd.to_datetime('2024-01-01')\n",
    "df['antiguedad'] = (fecha_referencia - df['fecha_vinc']).dt.days"
   ]
  },
  {
   "cell_type": "code",
   "execution_count": 76,
   "metadata": {},
   "outputs": [],
   "source": [
    "df.drop('fecha_vinc', axis=1, inplace=True)"
   ]
  },
  {
   "cell_type": "code",
   "execution_count": 77,
   "metadata": {},
   "outputs": [],
   "source": [
    "df.drop('f_vinc', axis=1, inplace=True)"
   ]
  },
  {
   "cell_type": "code",
   "execution_count": 78,
   "metadata": {},
   "outputs": [],
   "source": [
    "df['lote'] = df['lote'].astype(str)"
   ]
  },
  {
   "cell_type": "code",
   "execution_count": 79,
   "metadata": {},
   "outputs": [
    {
     "name": "stdout",
     "output_type": "stream",
     "text": [
      "3\n"
     ]
    },
    {
     "data": {
      "text/plain": [
       "lote\n",
       "1    221078\n",
       "2    158646\n",
       "3     76509\n",
       "Name: count, dtype: int64"
      ]
     },
     "execution_count": 79,
     "metadata": {},
     "output_type": "execute_result"
    }
   ],
   "source": [
    "lote_counts = df['lote'].value_counts()\n",
    "print(len(lote_counts))\n",
    "lote_counts"
   ]
  },
  {
   "cell_type": "code",
   "execution_count": 80,
   "metadata": {},
   "outputs": [],
   "source": [
    "df['var_rpta_alt'] = df['var_rpta_alt'].astype(str)"
   ]
  },
  {
   "cell_type": "code",
   "execution_count": 81,
   "metadata": {},
   "outputs": [
    {
     "name": "stdout",
     "output_type": "stream",
     "text": [
      "<class 'pandas.core.frame.DataFrame'>\n",
      "RangeIndex: 456233 entries, 0 to 456232\n",
      "Data columns (total 61 columns):\n",
      " #   Column                           Non-Null Count   Dtype  \n",
      "---  ------                           --------------   -----  \n",
      " 0   var_rpta_alt                     456233 non-null  object \n",
      " 1   banca                            456233 non-null  object \n",
      " 2   segmento_x                       456233 non-null  object \n",
      " 3   producto_x                       456233 non-null  object \n",
      " 4   aplicativo_x                     456233 non-null  object \n",
      " 5   min_mora                         456233 non-null  int64  \n",
      " 6   max_mora                         456233 non-null  int64  \n",
      " 7   dias_mora_fin                    456233 non-null  int64  \n",
      " 8   rango_mora                       456233 non-null  object \n",
      " 9   vlr_obligacion                   456233 non-null  float64\n",
      " 10  vlr_vencido                      456233 non-null  float64\n",
      " 11  saldo_capital                    456233 non-null  float64\n",
      " 12  endeudamiento                    456233 non-null  float64\n",
      " 13  cant_alter_posibles              456233 non-null  int64  \n",
      " 14  alter_posible1_2                 456233 non-null  object \n",
      " 15  cant_gestiones                   456233 non-null  float64\n",
      " 16  rpc                              456233 non-null  float64\n",
      " 17  promesas_cumplidas               456233 non-null  int64  \n",
      " 18  cant_promesas_cumplidas_binario  456233 non-null  int64  \n",
      " 19  cant_acuerdo                     456233 non-null  float64\n",
      " 20  descripcion_ranking_post_ult     456233 non-null  object \n",
      " 21  valor_cuota_mes_x                456233 non-null  float64\n",
      " 22  pago_cuota                       456233 non-null  float64\n",
      " 23  porc_pago_cuota                  456233 non-null  float64\n",
      " 24  pago_mes                         456233 non-null  float64\n",
      " 25  marca_debito_mora                456233 non-null  object \n",
      " 26  marca_pago_x                     456233 non-null  object \n",
      " 27  tipo_cli                         456233 non-null  object \n",
      " 28  ctrl_terc                        456233 non-null  object \n",
      " 29  genero_cli                       456233 non-null  object \n",
      " 30  edad_cli                         456233 non-null  float64\n",
      " 31  num_hijos                        456233 non-null  float64\n",
      " 32  personas_dependientes            456233 non-null  float64\n",
      " 33  ocup                             456233 non-null  object \n",
      " 34  subsector                        456233 non-null  object \n",
      " 35  declarante                       456233 non-null  object \n",
      " 36  total_ing                        456233 non-null  float64\n",
      " 37  tot_activos                      456233 non-null  float64\n",
      " 38  tot_pasivos                      456233 non-null  float64\n",
      " 39  origen_fondos                    456233 non-null  object \n",
      " 40  cli_actualizado                  456233 non-null  object \n",
      " 41  subsegm                          456233 non-null  object \n",
      " 42  region_of                        456233 non-null  object \n",
      " 43  egresos_mes                      456233 non-null  float64\n",
      " 44  tot_patrimonio                   456233 non-null  float64\n",
      " 45  ciiu                             456233 non-null  object \n",
      " 46  nit_num_oblig_id                 456233 non-null  object \n",
      " 47  nit_num_oblig                    456233 non-null  object \n",
      " 48  lote                             456233 non-null  object \n",
      " 49  prob_propension                  456233 non-null  float64\n",
      " 50  prob_alrt_temprana               456233 non-null  float64\n",
      " 51  prob_auto_cura                   456233 non-null  float64\n",
      " 52  producto_y                       456233 non-null  object \n",
      " 53  aplicativo_y                     456233 non-null  object \n",
      " 54  segmento_y                       456233 non-null  object \n",
      " 55  valor_cuota_mes_y                456233 non-null  float64\n",
      " 56  pago_total                       456233 non-null  float64\n",
      " 57  porc_pago                        456233 non-null  float64\n",
      " 58  marca_pago_y                     456233 non-null  object \n",
      " 59  ajustes_banco                    456233 non-null  object \n",
      " 60  antiguedad                       456233 non-null  int64  \n",
      "dtypes: float64(25), int64(7), object(29)\n",
      "memory usage: 212.3+ MB\n"
     ]
    }
   ],
   "source": [
    "df.info()"
   ]
  },
  {
   "cell_type": "code",
   "execution_count": 82,
   "metadata": {},
   "outputs": [
    {
     "data": {
      "text/plain": [
       "var_rpta_alt     0\n",
       "banca            0\n",
       "segmento_x       0\n",
       "producto_x       0\n",
       "aplicativo_x     0\n",
       "                ..\n",
       "pago_total       0\n",
       "porc_pago        0\n",
       "marca_pago_y     0\n",
       "ajustes_banco    0\n",
       "antiguedad       0\n",
       "Length: 61, dtype: int64"
      ]
     },
     "execution_count": 82,
     "metadata": {},
     "output_type": "execute_result"
    }
   ],
   "source": [
    "df.isnull().sum()"
   ]
  },
  {
   "cell_type": "code",
   "execution_count": 83,
   "metadata": {},
   "outputs": [
    {
     "data": {
      "text/plain": [
       "(456233, 61)"
      ]
     },
     "execution_count": 83,
     "metadata": {},
     "output_type": "execute_result"
    }
   ],
   "source": [
    "df.shape"
   ]
  },
  {
   "cell_type": "code",
   "execution_count": 84,
   "metadata": {},
   "outputs": [
    {
     "name": "stdout",
     "output_type": "stream",
     "text": [
      "7\n"
     ]
    },
    {
     "data": {
      "text/plain": [
       "segmento_x\n",
       "Personal         291978\n",
       "Personal plus     87348\n",
       "Micropyme         45303\n",
       "Pymes             15188\n",
       "Social            14093\n",
       "Preferencial       2320\n",
       "Empresarial           3\n",
       "Name: count, dtype: int64"
      ]
     },
     "execution_count": 84,
     "metadata": {},
     "output_type": "execute_result"
    }
   ],
   "source": [
    "segmentox_counts = df['segmento_x'].value_counts()\n",
    "print(len(segmentox_counts))\n",
    "segmentox_counts"
   ]
  },
  {
   "cell_type": "code",
   "execution_count": 85,
   "metadata": {},
   "outputs": [
    {
     "name": "stdout",
     "output_type": "stream",
     "text": [
      "24\n"
     ]
    },
    {
     "data": {
      "text/plain": [
       "producto_x\n",
       "TARJETA DE CREDITO       195986\n",
       "LIBRE INVERSION          161286\n",
       "ROTATIVOS                 64608\n",
       "CARTERA ORDINARIA          9580\n",
       "LIBRANZA                   8404\n",
       "HIPOTECARIO VIVIENDA       8238\n",
       "CARTERA MICROCREDITO       4801\n",
       "CREDIPAGO                  1165\n",
       "SOBREGIRO                  1015\n",
       "LEASING HABITACIONAL        501\n",
       "TARJETAS DE CREDITO         193\n",
       "CREDITOS DE CONSUMO         122\n",
       "TESORERIA                   109\n",
       "CREDIAGIL                    67\n",
       "CREDITO A LA MANO            32\n",
       "Titularizada                 30\n",
       "LEASING                      22\n",
       "REESTRUCTURADO               21\n",
       "VENTA DIGITAL                19\n",
       "CUENTA CORRIENTE             14\n",
       "OTROS HIPOTECARIO            11\n",
       "LIBRANZA EX EMPLEADOS         5\n",
       "MICROCREDITO                  3\n",
       "CREDITO HIPOTECARIO           1\n",
       "Name: count, dtype: int64"
      ]
     },
     "execution_count": 85,
     "metadata": {},
     "output_type": "execute_result"
    }
   ],
   "source": [
    "producto_x_counts = df['producto_x'].value_counts()\n",
    "print(len(producto_x_counts))\n",
    "producto_x_counts"
   ]
  },
  {
   "cell_type": "code",
   "execution_count": 86,
   "metadata": {},
   "outputs": [
    {
     "name": "stdout",
     "output_type": "stream",
     "text": [
      "7\n"
     ]
    },
    {
     "data": {
      "text/plain": [
       "aplicativo_x\n",
       "L    250245\n",
       "M     82227\n",
       "V     67099\n",
       "K     46853\n",
       "4      8279\n",
       "D      1029\n",
       "3       501\n",
       "Name: count, dtype: int64"
      ]
     },
     "execution_count": 86,
     "metadata": {},
     "output_type": "execute_result"
    }
   ],
   "source": [
    "aplicativo_x_counts = df['aplicativo_x'].value_counts()\n",
    "print(len(aplicativo_x_counts))\n",
    "aplicativo_x_counts"
   ]
  },
  {
   "cell_type": "markdown",
   "metadata": {},
   "source": [
    "Dataset depurado"
   ]
  },
  {
   "cell_type": "code",
   "execution_count": 87,
   "metadata": {},
   "outputs": [],
   "source": [
    "df.to_csv('dataset_depurado.csv', index=False)"
   ]
  }
 ],
 "metadata": {
  "kernelspec": {
   "display_name": "banc_venv",
   "language": "python",
   "name": "python3"
  },
  "language_info": {
   "codemirror_mode": {
    "name": "ipython",
    "version": 3
   },
   "file_extension": ".py",
   "mimetype": "text/x-python",
   "name": "python",
   "nbconvert_exporter": "python",
   "pygments_lexer": "ipython3",
   "version": "3.10.12"
  }
 },
 "nbformat": 4,
 "nbformat_minor": 2
}
